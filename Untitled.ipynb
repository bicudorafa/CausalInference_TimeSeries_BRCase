{
 "cells": [
  {
   "cell_type": "code",
   "execution_count": 2,
   "metadata": {},
   "outputs": [
    {
     "name": "stderr",
     "output_type": "stream",
     "text": [
      "/Users/rafael.bicudo/anaconda3/lib/python3.7/site-packages/matplotlib/font_manager.py:232: UserWarning: Matplotlib is building the font cache using fc-list. This may take a moment.\n",
      "  'Matplotlib is building the font cache using fc-list. '\n"
     ]
    }
   ],
   "source": [
    "import pandas as pd\n",
    "# Biblioteca que gera reports automaticos\n",
    "import pandas_profiling as pp\n",
    "import numpy as np\n",
    "import seaborn as sns\n",
    "import gc\n",
    "import matplotlib.pyplot as plt\n",
    "%matplotlib inline \n",
    "import warnings\n",
    "warnings.filterwarnings('ignore')\n",
    "# Ajuda a otimizar o uso da memória\n",
    "gc.enable()"
   ]
  },
  {
   "cell_type": "code",
   "execution_count": 58,
   "metadata": {
    "scrolled": true
   },
   "outputs": [
    {
     "name": "stdout",
     "output_type": "stream",
     "text": [
      "Date          object\n",
      "Open         float64\n",
      "High         float64\n",
      "Low          float64\n",
      "Close        float64\n",
      "Adj Close    float64\n",
      "Volume       float64\n",
      "dtype: object\n"
     ]
    },
    {
     "data": {
      "text/html": [
       "<div>\n",
       "<style scoped>\n",
       "    .dataframe tbody tr th:only-of-type {\n",
       "        vertical-align: middle;\n",
       "    }\n",
       "\n",
       "    .dataframe tbody tr th {\n",
       "        vertical-align: top;\n",
       "    }\n",
       "\n",
       "    .dataframe thead th {\n",
       "        text-align: right;\n",
       "    }\n",
       "</style>\n",
       "<table border=\"1\" class=\"dataframe\">\n",
       "  <thead>\n",
       "    <tr style=\"text-align: right;\">\n",
       "      <th></th>\n",
       "      <th>Date</th>\n",
       "      <th>Open</th>\n",
       "      <th>High</th>\n",
       "      <th>Low</th>\n",
       "      <th>Close</th>\n",
       "      <th>Adj Close</th>\n",
       "      <th>Volume</th>\n",
       "    </tr>\n",
       "  </thead>\n",
       "  <tbody>\n",
       "    <tr>\n",
       "      <th>0</th>\n",
       "      <td>2009-01-02</td>\n",
       "      <td>37550.0</td>\n",
       "      <td>40265.0</td>\n",
       "      <td>37550.0</td>\n",
       "      <td>40244.0</td>\n",
       "      <td>40244.0</td>\n",
       "      <td>1055200.0</td>\n",
       "    </tr>\n",
       "    <tr>\n",
       "      <th>1</th>\n",
       "      <td>2009-01-05</td>\n",
       "      <td>40243.0</td>\n",
       "      <td>41889.0</td>\n",
       "      <td>39526.0</td>\n",
       "      <td>41519.0</td>\n",
       "      <td>41519.0</td>\n",
       "      <td>1909200.0</td>\n",
       "    </tr>\n",
       "    <tr>\n",
       "      <th>2</th>\n",
       "      <td>2009-01-06</td>\n",
       "      <td>41520.0</td>\n",
       "      <td>42363.0</td>\n",
       "      <td>41520.0</td>\n",
       "      <td>42312.0</td>\n",
       "      <td>42312.0</td>\n",
       "      <td>1791000.0</td>\n",
       "    </tr>\n",
       "    <tr>\n",
       "      <th>3</th>\n",
       "      <td>2009-01-07</td>\n",
       "      <td>42308.0</td>\n",
       "      <td>42308.0</td>\n",
       "      <td>40563.0</td>\n",
       "      <td>40820.0</td>\n",
       "      <td>40820.0</td>\n",
       "      <td>1383600.0</td>\n",
       "    </tr>\n",
       "    <tr>\n",
       "      <th>4</th>\n",
       "      <td>2009-01-08</td>\n",
       "      <td>40819.0</td>\n",
       "      <td>41991.0</td>\n",
       "      <td>40251.0</td>\n",
       "      <td>41991.0</td>\n",
       "      <td>41991.0</td>\n",
       "      <td>1556000.0</td>\n",
       "    </tr>\n",
       "  </tbody>\n",
       "</table>\n",
       "</div>"
      ],
      "text/plain": [
       "         Date     Open     High      Low    Close  Adj Close     Volume\n",
       "0  2009-01-02  37550.0  40265.0  37550.0  40244.0    40244.0  1055200.0\n",
       "1  2009-01-05  40243.0  41889.0  39526.0  41519.0    41519.0  1909200.0\n",
       "2  2009-01-06  41520.0  42363.0  41520.0  42312.0    42312.0  1791000.0\n",
       "3  2009-01-07  42308.0  42308.0  40563.0  40820.0    40820.0  1383600.0\n",
       "4  2009-01-08  40819.0  41991.0  40251.0  41991.0    41991.0  1556000.0"
      ]
     },
     "execution_count": 58,
     "metadata": {},
     "output_type": "execute_result"
    }
   ],
   "source": [
    "ibov = pd.read_csv('^BVSP.csv')\n",
    "print(ibov.dtypes)\n",
    "ibov.head()"
   ]
  },
  {
   "cell_type": "code",
   "execution_count": 59,
   "metadata": {},
   "outputs": [
    {
     "name": "stdout",
     "output_type": "stream",
     "text": [
      "Date          object\n",
      "Open         float64\n",
      "High         float64\n",
      "Low          float64\n",
      "Close        float64\n",
      "Adj Close    float64\n",
      "Volume         int64\n",
      "dtype: object\n"
     ]
    },
    {
     "data": {
      "text/html": [
       "<div>\n",
       "<style scoped>\n",
       "    .dataframe tbody tr th:only-of-type {\n",
       "        vertical-align: middle;\n",
       "    }\n",
       "\n",
       "    .dataframe tbody tr th {\n",
       "        vertical-align: top;\n",
       "    }\n",
       "\n",
       "    .dataframe thead th {\n",
       "        text-align: right;\n",
       "    }\n",
       "</style>\n",
       "<table border=\"1\" class=\"dataframe\">\n",
       "  <thead>\n",
       "    <tr style=\"text-align: right;\">\n",
       "      <th></th>\n",
       "      <th>Date</th>\n",
       "      <th>Open</th>\n",
       "      <th>High</th>\n",
       "      <th>Low</th>\n",
       "      <th>Close</th>\n",
       "      <th>Adj Close</th>\n",
       "      <th>Volume</th>\n",
       "    </tr>\n",
       "  </thead>\n",
       "  <tbody>\n",
       "    <tr>\n",
       "      <th>0</th>\n",
       "      <td>2009-01-02</td>\n",
       "      <td>8772.250000</td>\n",
       "      <td>9065.280273</td>\n",
       "      <td>8760.780273</td>\n",
       "      <td>9034.690430</td>\n",
       "      <td>9034.690430</td>\n",
       "      <td>213700000</td>\n",
       "    </tr>\n",
       "    <tr>\n",
       "      <th>1</th>\n",
       "      <td>2009-01-05</td>\n",
       "      <td>9027.129883</td>\n",
       "      <td>9034.370117</td>\n",
       "      <td>8892.360352</td>\n",
       "      <td>8952.889648</td>\n",
       "      <td>8952.889648</td>\n",
       "      <td>233760000</td>\n",
       "    </tr>\n",
       "    <tr>\n",
       "      <th>2</th>\n",
       "      <td>2009-01-06</td>\n",
       "      <td>8954.570313</td>\n",
       "      <td>9088.059570</td>\n",
       "      <td>8940.950195</td>\n",
       "      <td>9015.099609</td>\n",
       "      <td>9015.099609</td>\n",
       "      <td>215410000</td>\n",
       "    </tr>\n",
       "    <tr>\n",
       "      <th>3</th>\n",
       "      <td>2009-01-07</td>\n",
       "      <td>8996.940430</td>\n",
       "      <td>8996.940430</td>\n",
       "      <td>8719.919922</td>\n",
       "      <td>8769.700195</td>\n",
       "      <td>8769.700195</td>\n",
       "      <td>266710000</td>\n",
       "    </tr>\n",
       "    <tr>\n",
       "      <th>4</th>\n",
       "      <td>2009-01-08</td>\n",
       "      <td>8769.940430</td>\n",
       "      <td>8770.019531</td>\n",
       "      <td>8651.190430</td>\n",
       "      <td>8742.459961</td>\n",
       "      <td>8742.459961</td>\n",
       "      <td>226620000</td>\n",
       "    </tr>\n",
       "  </tbody>\n",
       "</table>\n",
       "</div>"
      ],
      "text/plain": [
       "         Date         Open         High          Low        Close  \\\n",
       "0  2009-01-02  8772.250000  9065.280273  8760.780273  9034.690430   \n",
       "1  2009-01-05  9027.129883  9034.370117  8892.360352  8952.889648   \n",
       "2  2009-01-06  8954.570313  9088.059570  8940.950195  9015.099609   \n",
       "3  2009-01-07  8996.940430  8996.940430  8719.919922  8769.700195   \n",
       "4  2009-01-08  8769.940430  8770.019531  8651.190430  8742.459961   \n",
       "\n",
       "     Adj Close     Volume  \n",
       "0  9034.690430  213700000  \n",
       "1  8952.889648  233760000  \n",
       "2  9015.099609  215410000  \n",
       "3  8769.700195  266710000  \n",
       "4  8742.459961  226620000  "
      ]
     },
     "execution_count": 59,
     "metadata": {},
     "output_type": "execute_result"
    }
   ],
   "source": [
    "dowj = pd.read_csv('^DJI.csv')\n",
    "print(dowj.dtypes)\n",
    "dowj.head()"
   ]
  },
  {
   "cell_type": "code",
   "execution_count": 60,
   "metadata": {},
   "outputs": [
    {
     "name": "stdout",
     "output_type": "stream",
     "text": [
      "Date         object\n",
      "Price       float64\n",
      "Open        float64\n",
      "High        float64\n",
      "Low         float64\n",
      "Change %     object\n",
      "dtype: object\n"
     ]
    },
    {
     "data": {
      "text/html": [
       "<div>\n",
       "<style scoped>\n",
       "    .dataframe tbody tr th:only-of-type {\n",
       "        vertical-align: middle;\n",
       "    }\n",
       "\n",
       "    .dataframe tbody tr th {\n",
       "        vertical-align: top;\n",
       "    }\n",
       "\n",
       "    .dataframe thead th {\n",
       "        text-align: right;\n",
       "    }\n",
       "</style>\n",
       "<table border=\"1\" class=\"dataframe\">\n",
       "  <thead>\n",
       "    <tr style=\"text-align: right;\">\n",
       "      <th></th>\n",
       "      <th>Date</th>\n",
       "      <th>Price</th>\n",
       "      <th>Open</th>\n",
       "      <th>High</th>\n",
       "      <th>Low</th>\n",
       "      <th>Change %</th>\n",
       "    </tr>\n",
       "  </thead>\n",
       "  <tbody>\n",
       "    <tr>\n",
       "      <th>0</th>\n",
       "      <td>Apr 19, 2019</td>\n",
       "      <td>3.9275</td>\n",
       "      <td>3.9275</td>\n",
       "      <td>3.9275</td>\n",
       "      <td>3.9275</td>\n",
       "      <td>0.00%</td>\n",
       "    </tr>\n",
       "    <tr>\n",
       "      <th>1</th>\n",
       "      <td>Apr 18, 2019</td>\n",
       "      <td>3.9274</td>\n",
       "      <td>3.9409</td>\n",
       "      <td>3.9522</td>\n",
       "      <td>3.9047</td>\n",
       "      <td>-0.27%</td>\n",
       "    </tr>\n",
       "    <tr>\n",
       "      <th>2</th>\n",
       "      <td>Apr 17, 2019</td>\n",
       "      <td>3.9382</td>\n",
       "      <td>3.9052</td>\n",
       "      <td>3.9477</td>\n",
       "      <td>3.8859</td>\n",
       "      <td>0.88%</td>\n",
       "    </tr>\n",
       "    <tr>\n",
       "      <th>3</th>\n",
       "      <td>Apr 16, 2019</td>\n",
       "      <td>3.9040</td>\n",
       "      <td>3.8730</td>\n",
       "      <td>3.9085</td>\n",
       "      <td>3.8687</td>\n",
       "      <td>0.82%</td>\n",
       "    </tr>\n",
       "    <tr>\n",
       "      <th>4</th>\n",
       "      <td>Apr 15, 2019</td>\n",
       "      <td>3.8723</td>\n",
       "      <td>3.8811</td>\n",
       "      <td>3.8908</td>\n",
       "      <td>3.8588</td>\n",
       "      <td>-0.25%</td>\n",
       "    </tr>\n",
       "  </tbody>\n",
       "</table>\n",
       "</div>"
      ],
      "text/plain": [
       "           Date   Price    Open    High     Low Change %\n",
       "0  Apr 19, 2019  3.9275  3.9275  3.9275  3.9275    0.00%\n",
       "1  Apr 18, 2019  3.9274  3.9409  3.9522  3.9047   -0.27%\n",
       "2  Apr 17, 2019  3.9382  3.9052  3.9477  3.8859    0.88%\n",
       "3  Apr 16, 2019  3.9040  3.8730  3.9085  3.8687    0.82%\n",
       "4  Apr 15, 2019  3.8723  3.8811  3.8908  3.8588   -0.25%"
      ]
     },
     "execution_count": 60,
     "metadata": {},
     "output_type": "execute_result"
    }
   ],
   "source": [
    "exrate = pd.read_csv('USD_BRL Historical Data.csv')\n",
    "print(exrate.dtypes)\n",
    "exrate.head()"
   ]
  },
  {
   "cell_type": "code",
   "execution_count": 61,
   "metadata": {},
   "outputs": [
    {
     "name": "stdout",
     "output_type": "stream",
     "text": [
      "Data    datetime64[ns]\n",
      "ICB            float64\n",
      "dtype: object\n"
     ]
    },
    {
     "data": {
      "text/html": [
       "<div>\n",
       "<style scoped>\n",
       "    .dataframe tbody tr th:only-of-type {\n",
       "        vertical-align: middle;\n",
       "    }\n",
       "\n",
       "    .dataframe tbody tr th {\n",
       "        vertical-align: top;\n",
       "    }\n",
       "\n",
       "    .dataframe thead th {\n",
       "        text-align: right;\n",
       "    }\n",
       "</style>\n",
       "<table border=\"1\" class=\"dataframe\">\n",
       "  <thead>\n",
       "    <tr style=\"text-align: right;\">\n",
       "      <th></th>\n",
       "      <th>Data</th>\n",
       "      <th>ICB</th>\n",
       "    </tr>\n",
       "  </thead>\n",
       "  <tbody>\n",
       "    <tr>\n",
       "      <th>0</th>\n",
       "      <td>2004-01-02</td>\n",
       "      <td>10000.000000</td>\n",
       "    </tr>\n",
       "    <tr>\n",
       "      <th>1</th>\n",
       "      <td>2004-01-05</td>\n",
       "      <td>10226.384883</td>\n",
       "    </tr>\n",
       "    <tr>\n",
       "      <th>2</th>\n",
       "      <td>2004-01-06</td>\n",
       "      <td>10384.872410</td>\n",
       "    </tr>\n",
       "    <tr>\n",
       "      <th>3</th>\n",
       "      <td>2004-01-07</td>\n",
       "      <td>10288.020286</td>\n",
       "    </tr>\n",
       "    <tr>\n",
       "      <th>4</th>\n",
       "      <td>2004-01-08</td>\n",
       "      <td>10213.599971</td>\n",
       "    </tr>\n",
       "  </tbody>\n",
       "</table>\n",
       "</div>"
      ],
      "text/plain": [
       "        Data           ICB\n",
       "0 2004-01-02  10000.000000\n",
       "1 2004-01-05  10226.384883\n",
       "2 2004-01-06  10384.872410\n",
       "3 2004-01-07  10288.020286\n",
       "4 2004-01-08  10213.599971"
      ]
     },
     "execution_count": 61,
     "metadata": {},
     "output_type": "execute_result"
    }
   ],
   "source": [
    "icb = pd.read_excel('Gráfico Historico_ICB.xlsx')\n",
    "print(icb.dtypes)\n",
    "icb.head()"
   ]
  },
  {
   "cell_type": "markdown",
   "metadata": {},
   "source": [
    "### Cleaning"
   ]
  },
  {
   "cell_type": "code",
   "execution_count": 62,
   "metadata": {
    "scrolled": true
   },
   "outputs": [],
   "source": [
    "icb.columns = ['Date', 'ICB']\n",
    "series=[ibov,dowj,exrate,icb]\n",
    "for serie in series:\n",
    "    serie['Date'] = pd.to_datetime(serie['Date'])\n",
    "    serie.set_index('Date', inplace=True)"
   ]
  },
  {
   "cell_type": "code",
   "execution_count": 63,
   "metadata": {
    "scrolled": true
   },
   "outputs": [],
   "source": [
    "df = ibov.loc[:,['Close']].join(\n",
    "    dowj.loc[:,['Close']], lsuffix='IBOV', rsuffix='DJI').join(\n",
    "    exrate.loc[:,['Price']],rsuffix='USDxBRL').join(\n",
    "    icb).dropna()"
   ]
  },
  {
   "cell_type": "code",
   "execution_count": 65,
   "metadata": {},
   "outputs": [
    {
     "data": {
      "text/html": [
       "<div>\n",
       "<style scoped>\n",
       "    .dataframe tbody tr th:only-of-type {\n",
       "        vertical-align: middle;\n",
       "    }\n",
       "\n",
       "    .dataframe tbody tr th {\n",
       "        vertical-align: top;\n",
       "    }\n",
       "\n",
       "    .dataframe thead th {\n",
       "        text-align: right;\n",
       "    }\n",
       "</style>\n",
       "<table border=\"1\" class=\"dataframe\">\n",
       "  <thead>\n",
       "    <tr style=\"text-align: right;\">\n",
       "      <th></th>\n",
       "      <th>CloseIBOV</th>\n",
       "      <th>CloseDJI</th>\n",
       "      <th>Price</th>\n",
       "      <th>ICB</th>\n",
       "    </tr>\n",
       "    <tr>\n",
       "      <th>Date</th>\n",
       "      <th></th>\n",
       "      <th></th>\n",
       "      <th></th>\n",
       "      <th></th>\n",
       "    </tr>\n",
       "  </thead>\n",
       "  <tbody>\n",
       "    <tr>\n",
       "      <th>2009-01-02</th>\n",
       "      <td>40244.0</td>\n",
       "      <td>9034.690430</td>\n",
       "      <td>2.3220</td>\n",
       "      <td>14233.230261</td>\n",
       "    </tr>\n",
       "    <tr>\n",
       "      <th>2009-01-05</th>\n",
       "      <td>41519.0</td>\n",
       "      <td>8952.889648</td>\n",
       "      <td>2.2365</td>\n",
       "      <td>13896.524465</td>\n",
       "    </tr>\n",
       "    <tr>\n",
       "      <th>2009-01-06</th>\n",
       "      <td>42312.0</td>\n",
       "      <td>9015.099609</td>\n",
       "      <td>2.1695</td>\n",
       "      <td>13822.557683</td>\n",
       "    </tr>\n",
       "    <tr>\n",
       "      <th>2009-01-07</th>\n",
       "      <td>40820.0</td>\n",
       "      <td>8769.700195</td>\n",
       "      <td>2.2725</td>\n",
       "      <td>13803.581151</td>\n",
       "    </tr>\n",
       "    <tr>\n",
       "      <th>2009-01-08</th>\n",
       "      <td>41991.0</td>\n",
       "      <td>8742.459961</td>\n",
       "      <td>2.2955</td>\n",
       "      <td>13877.549904</td>\n",
       "    </tr>\n",
       "  </tbody>\n",
       "</table>\n",
       "</div>"
      ],
      "text/plain": [
       "            CloseIBOV     CloseDJI   Price           ICB\n",
       "Date                                                    \n",
       "2009-01-02    40244.0  9034.690430  2.3220  14233.230261\n",
       "2009-01-05    41519.0  8952.889648  2.2365  13896.524465\n",
       "2009-01-06    42312.0  9015.099609  2.1695  13822.557683\n",
       "2009-01-07    40820.0  8769.700195  2.2725  13803.581151\n",
       "2009-01-08    41991.0  8742.459961  2.2955  13877.549904"
      ]
     },
     "execution_count": 65,
     "metadata": {},
     "output_type": "execute_result"
    }
   ],
   "source": [
    "df.head()"
   ]
  },
  {
   "cell_type": "code",
   "execution_count": 64,
   "metadata": {},
   "outputs": [
    {
     "data": {
      "text/plain": [
       "<matplotlib.axes._subplots.AxesSubplot at 0x1a272078d0>"
      ]
     },
     "execution_count": 64,
     "metadata": {},
     "output_type": "execute_result"
    },
    {
     "data": {
      "image/png": "[encoded data removed]",
      "text/plain": [
       "<Figure size 432x288 with 1 Axes>"
      ]
     },
     "metadata": {
      "needs_background": "light"
     },
     "output_type": "display_data"
    }
   ],
   "source": [
    "df.plot()"
   ]
  },
  {
   "cell_type": "markdown",
   "metadata": {},
   "source": [
    "Car Wash Operations days"
   ]
  },
  {
   "cell_type": "code",
   "execution_count": null,
   "metadata": {},
   "outputs": [],
   "source": [
    "big = ['2014-03-17', '2014-04-11','2014-11-14',\n",
    "      '2014-07-01', '2015-01-14', '2015-02-05','2016-03-16', '2016-03-27',] #duvida de qual pertence\n",
    "med = ['2014-03-20', '2014-06-11', '2014-08-22', ]"
   ]
  }
 ],
 "metadata": {
  "kernelspec": {
   "display_name": "Python 3",
   "language": "python",
   "name": "python3"
  },
  "language_info": {
   "codemirror_mode": {
    "name": "ipython",
    "version": 3
   },
   "file_extension": ".py",
   "mimetype": "text/x-python",
   "name": "python",
   "nbconvert_exporter": "python",
   "pygments_lexer": "ipython3",
   "version": "3.7.3"
  }
 },
 "nbformat": 4,
 "nbformat_minor": 2
}
